{
 "cells": [
  {
   "cell_type": "markdown",
   "metadata": {},
   "source": [
    "# En voyage avec (des) pandas\n",
    "\n",
    "Suite à la première étape où vous avez découvert (ou révisé) des bases de Python, vous allez découvrir (ou réviser) l'utilisation de la bibliothèque **pandas** pour traiter un fichier csv travel_data.csv qui contient un carnet de voyage.\n",
    "\n",
    "Pour réaliser les exercices, utilisez la documentation officielle de pandas :  \n",
    "https://pandas.pydata.org/pandas-docs/stable/\n",
    "\n",
    "N'hésitez pas à rechercher les fonctions, méthodes et exemples nécessaires pour compléter les tâches demandées.  \n",
    "\n",
    "Chaque cellule de code est précédée d'une cellule TODO indiquant la liste des objectifs à atteindre.\n",
    "\n",
    "Répondez également dans le notebook aux petites questions proposées."
   ]
  },
  {
   "cell_type": "code",
   "execution_count": null,
   "id": "b5c50044",
   "metadata": {},
   "outputs": [
    {
     "ename": "SyntaxError",
     "evalue": "invalid syntax (2822717434.py, line 2)",
     "output_type": "error",
     "traceback": [
      "  \u001b[36mCell\u001b[39m\u001b[36m \u001b[39m\u001b[32mIn[3]\u001b[39m\u001b[32m, line 2\u001b[39m\n\u001b[31m    \u001b[39m\u001b[31mpip install pandas\u001b[39m\n        ^\n\u001b[31mSyntaxError\u001b[39m\u001b[31m:\u001b[39m invalid syntax\n"
     ]
    }
   ],
   "source": [
    "# Il faut installer la bibliothèque pandas. On verra comment faire ça proprement plus tard.\n",
    "# Déjà installé via le terminal"
   ]
  },
  {
   "cell_type": "markdown",
   "metadata": {},
   "source": [
    "# 1. Charger et afficher les données\n",
    "\n",
    "**TODO**\n",
    "\n",
    "- Importer la bibliothèque pandas sous l’alias `pd`  \n",
    "- Charger le fichier `travel_journal.csv` dans un DataFrame `df_trips`  \n",
    "- Afficher les 5 premières lignes du DataFrame  \n",
    "- Afficher les types de données des colonnes"
   ]
  },
  {
   "cell_type": "code",
   "execution_count": 6,
   "metadata": {},
   "outputs": [
    {
     "name": "stdout",
     "output_type": "stream",
     "text": [
      "        city        date weather     mood  photos\n",
      "0      Paris  2024-03-15   sunny    happy     150\n",
      "1       Lyon  2024-04-10  cloudy  curious      80\n",
      "2  Marseille  2024-05-05     NaN      sad      25\n",
      "3   Bordeaux  2024-06-20   sunny  excited     200\n",
      "4       Nice  2024-07-12   sunny  relaxed     180\n",
      "city       object\n",
      "date       object\n",
      "weather    object\n",
      "mood       object\n",
      "photos      int64\n",
      "dtype: object\n"
     ]
    }
   ],
   "source": [
    "# Write your code here\n",
    "import pandas as pd\n",
    "df_trips = pd.read_csv('travel_data.csv')\n",
    "print(df_trips.head())\n",
    "print(df_trips.dtypes)"
   ]
  },
  {
   "cell_type": "markdown",
   "metadata": {},
   "source": [
    "# 2. Nettoyer les données manquantes\n",
    "\n",
    "**TODO**\n",
    "\n",
    "- Identifier les lignes avec des valeurs manquantes dans le DataFrame  \n",
    "- Remplacer les valeurs manquantes dans la colonne `weather` par `\"unknown\"`  \n",
    "- Convertir la colonne `date` en format datetime  \n",
    "- Trier le DataFrame par date croissante\n",
    "- Exporter les données dans un fichier clean_travel_data.csv\n",
    "- A votre avis quel autre type de vérifications pourrait-on faire afin de nettoyer les données ?"
   ]
  },
  {
   "cell_type": "code",
   "execution_count": null,
   "metadata": {},
   "outputs": [],
   "source": [
    "# Write your code here\n",
    "# Afficher les valeurs \"NaN\" dans la colonne/serie 'Weather'\n",
    "\n",
    "# print(df_trips['weather'].isna())\n",
    "\n",
    "# Remplacement des valeurs manquantes par \"unknown\"\n",
    "df_trips['weather'] = df_trips['weather'].fillna('unknown')\n",
    "\n",
    "# print(df_trips)\n",
    "\n",
    "# Conversion des dates\n",
    "\n",
    "df_trips['date'] = pd.to_datetime(df_trips['date'])\n",
    "# Vérification du changement de format date vers datetime\n",
    "# print(df_trips.dtypes)\n",
    "\n",
    "# Conversion du DF par ordre de date décroissante\n",
    "\n",
    "df_trips= df_trips.sort_values(by='date', ascending=False)\n",
    "\n",
    "# Exporter les données en .csv\n",
    "\n",
    "df_trips.to_csv('clean_travel_data.csv', index=False)\n",
    "\n",
    "# Autre vérif'\n",
    "# Vérifier qu'il n'y ait pas de doublons ?\n",
    "\n",
    "\n",
    "\n",
    "\n",
    "\n",
    "\n",
    "\n",
    "\n",
    "\n"
   ]
  },
  {
   "cell_type": "markdown",
   "metadata": {},
   "source": [
    "# 3. Filtrer et trier les voyages\n",
    "\n",
    "**TODO**\n",
    "\n",
    "- Extraire les voyages où la météo est `\"sunny\"` et le nombre de photos est supérieur à 100  \n",
    "- Trier ces voyages par nombre de photos décroissant  \n",
    "- Afficher les colonnes `city`, `date`, `photos` du résultat filtré"
   ]
  },
  {
   "cell_type": "code",
   "execution_count": null,
   "metadata": {},
   "outputs": [
    {
     "name": "stdout",
     "output_type": "stream",
     "text": [
      "          city       date  photos\n",
      "3     Bordeaux 2024-06-20     200\n",
      "4         Nice 2024-07-12     180\n",
      "0        Paris 2024-03-15     150\n",
      "8  Montpellier 2024-11-25     110\n"
     ]
    }
   ],
   "source": [
    "# Write your code here\n",
    "# Filtrage des voyages 'sunny' + Filtrage nb photo > 100 + Tri décroissant\n",
    "df_filtré = df_trips[(df_trips['weather'] == 'sunny') &\n",
    "                     (df_trips['photos'] > 100)].sort_values(by='photos', ascending=False)[['city', 'date', 'photos']]\n",
    "\n",
    "print(df_filtré)\n",
    "\n",
    "# Remarque : j'ai été aidé par ChatGPT\n",
    "\n",
    "\n"
   ]
  },
  {
   "cell_type": "markdown",
   "metadata": {},
   "source": [
    "# 4. Groupements et agrégations\n",
    "\n",
    "**TODO**\n",
    "\n",
    "- Calculer le total des photos prises par ville  \n",
    "- Calculer la moyenne des photos selon la météo  \n",
    "- Compter le nombre de voyages par humeur (mood)"
   ]
  },
  {
   "cell_type": "code",
   "execution_count": 46,
   "metadata": {},
   "outputs": [
    {
     "name": "stdout",
     "output_type": "stream",
     "text": [
      "640\n",
      "weather\n",
      "cloudy      88.75\n",
      "rainy       31.25\n",
      "snowy        2.50\n",
      "sunny      120.00\n",
      "unknown     47.50\n",
      "Name: photos, dtype: float64\n",
      "mood\n",
      "happy         3\n",
      "excited       3\n",
      "sad           2\n",
      "calm          2\n",
      "curious       2\n",
      "joyful        2\n",
      "relaxed       2\n",
      "thoughtful    2\n",
      "cold          1\n",
      "bored         1\n",
      "Name: count, dtype: int64\n"
     ]
    }
   ],
   "source": [
    "# Write your code here\n",
    "#Somme des photos prises\n",
    "nb_photos_total = df_filtré['photos'].sum()\n",
    "print(nb_photos_total)\n",
    "# Moyenne des photos prises selon la meteo\n",
    "moyenne_photo_meteo = df_trips.groupby('weather')['photos'].mean()\n",
    "print(moyenne_photo_meteo)\n",
    "# Nombre de voyages par humeur\n",
    "nb_voyage_humeur = df_trips['mood'].value_counts()\n",
    "print(nb_voyage_humeur)"
   ]
  }
 ],
 "metadata": {
  "kernelspec": {
   "display_name": ".venv",
   "language": "python",
   "name": "python3"
  },
  "language_info": {
   "codemirror_mode": {
    "name": "ipython",
    "version": 3
   },
   "file_extension": ".py",
   "mimetype": "text/x-python",
   "name": "python",
   "nbconvert_exporter": "python",
   "pygments_lexer": "ipython3",
   "version": "3.12.3"
  }
 },
 "nbformat": 4,
 "nbformat_minor": 5
}
