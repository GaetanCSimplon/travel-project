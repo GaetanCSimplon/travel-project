{
 "cells": [
  {
   "cell_type": "code",
   "execution_count": 2,
   "id": "83e5b17c",
   "metadata": {},
   "outputs": [
    {
     "name": "stdout",
     "output_type": "stream",
     "text": [
      "    weather        mood\n",
      "0     sunny       happy\n",
      "1    cloudy     curious\n",
      "2   unknown         sad\n",
      "3     sunny     excited\n",
      "4     sunny     relaxed\n",
      "5     rainy  thoughtful\n",
      "6    cloudy       happy\n",
      "7   unknown        calm\n",
      "8     sunny      joyful\n",
      "9     snowy        cold\n",
      "10   cloudy     excited\n",
      "11    sunny      joyful\n",
      "12    sunny     relaxed\n",
      "13    rainy  thoughtful\n",
      "14    rainy         sad\n",
      "15   cloudy       happy\n",
      "16    sunny     curious\n",
      "17    sunny     excited\n",
      "18    rainy       bored\n",
      "19    snowy        calm\n",
      "Le nombre de photo moyen est de  77.75\n",
      "La médiane est de  72.5\n",
      "Le nombre minimum de photo prise est de  0\n",
      "Le nombre maximum de photo prise est de  200\n",
      "city       0\n",
      "date       0\n",
      "weather    0\n",
      "mood       0\n",
      "photos     0\n",
      "dtype: int64\n",
      "0     150\n",
      "1      80\n",
      "2      25\n",
      "3     200\n",
      "4     180\n",
      "5      20\n",
      "6      90\n",
      "7      70\n",
      "8     110\n",
      "9       0\n",
      "10    130\n",
      "11     95\n",
      "12     75\n",
      "13     30\n",
      "14     40\n",
      "15     55\n",
      "16     85\n",
      "17     65\n",
      "18     35\n",
      "19     20\n",
      "Name: photos, dtype: int64\n"
     ]
    }
   ],
   "source": [
    "import pandas as pd\n",
    "import plotly.express as px\n",
    "\n",
    "from clean_data import load_and_clean_data\n",
    "from print_stat import print_statistics\n",
    "from plot_data import (\n",
    "    plot_mood_distribution,\n",
    "    plot_photo_by_date,\n",
    "    plot_photos_by_weather\n",
    ")\n",
    "\n",
    "def main():\n",
    "    clean_data = load_and_clean_data('travel_data.csv', 'clean_data.csv')\n",
    "    print_statistics('clean_data.csv')\n",
    "    plot_photos_by_weather(clean_data)\n",
    "    plot_mood_distribution(clean_data)\n",
    "    plot_photo_by_date(clean_data)\n",
    "\n",
    "if __name__ == '__main__':\n",
    "\n",
    "    main()"
   ]
  }
 ],
 "metadata": {
  "kernelspec": {
   "display_name": ".venv",
   "language": "python",
   "name": "python3"
  },
  "language_info": {
   "codemirror_mode": {
    "name": "ipython",
    "version": 3
   },
   "file_extension": ".py",
   "mimetype": "text/x-python",
   "name": "python",
   "nbconvert_exporter": "python",
   "pygments_lexer": "ipython3",
   "version": "3.12.3"
  }
 },
 "nbformat": 4,
 "nbformat_minor": 5
}
